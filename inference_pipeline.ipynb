{
 "cells": [
  {
   "cell_type": "code",
   "execution_count": 1,
   "metadata": {},
   "outputs": [
    {
     "name": "stdout",
     "output_type": "stream",
     "text": [
      "Processing /Users/jayden/Library/Caches/pip/wheels/76/b1/d1/e8ec69a796901e1dadc9409b4d91da6b7b37ccb3b7a97a05ef/hopsworks-3.4.3-py3-none-any.whl\n",
      "Collecting boto3\n",
      "  Using cached boto3-1.33.9-py3-none-any.whl (139 kB)\n",
      "Collecting hsfs[python]<3.5.0,>=3.4.0\n",
      "  Using cached hsfs-3.4.5.tar.gz (170 kB)\n",
      "Collecting pyjks\n",
      "  Using cached pyjks-20.0.0-py2.py3-none-any.whl (45 kB)\n",
      "Collecting tqdm\n",
      "  Using cached tqdm-4.66.1-py3-none-any.whl (78 kB)\n",
      "Collecting furl\n",
      "  Using cached furl-2.1.3-py2.py3-none-any.whl (20 kB)\n",
      "Collecting requests\n",
      "  Using cached requests-2.31.0-py3-none-any.whl (62 kB)\n",
      "Collecting mock\n",
      "  Using cached mock-5.1.0-py3-none-any.whl (30 kB)\n",
      "Collecting pyhumps==1.6.1\n",
      "  Using cached pyhumps-1.6.1-py3-none-any.whl (5.0 kB)\n",
      "Processing /Users/jayden/Library/Caches/pip/wheels/97/2d/ce/5495c785662eb34365396458884fa6a08aa7d91de9889b046d/hsml-3.4.5-py3-none-any.whl\n",
      "Collecting jmespath<2.0.0,>=0.7.1\n",
      "  Using cached jmespath-1.0.1-py3-none-any.whl (20 kB)\n",
      "Collecting s3transfer<0.9.0,>=0.8.2\n",
      "  Using cached s3transfer-0.8.2-py3-none-any.whl (82 kB)\n",
      "Collecting botocore<1.34.0,>=1.33.9\n",
      "  Using cached botocore-1.33.9-py3-none-any.whl (11.8 MB)\n",
      "Collecting pandas<2.1.0\n",
      "  Using cached pandas-2.0.3-cp39-cp39-macosx_10_9_x86_64.whl (11.8 MB)\n",
      "Collecting numpy<2\n",
      "  Using cached numpy-1.26.2-cp39-cp39-macosx_10_9_x86_64.whl (20.6 MB)\n",
      "Processing /Users/jayden/Library/Caches/pip/wheels/09/98/af/28b72da319fad61b62e4f94a70a1336523518d9b5ef0d86249/avro-1.11.0-py2.py3-none-any.whl\n",
      "Collecting sqlalchemy\n",
      "  Using cached SQLAlchemy-2.0.23-cp39-cp39-macosx_10_9_x86_64.whl (2.1 MB)\n",
      "Collecting PyMySQL[rsa]\n",
      "  Using cached PyMySQL-1.1.0-py3-none-any.whl (44 kB)\n",
      "Collecting great_expectations==0.14.13\n",
      "  Using cached great_expectations-0.14.13-py3-none-any.whl (5.0 MB)\n",
      "Collecting markupsafe<2.1.0\n",
      "  Using cached MarkupSafe-2.0.1-cp39-cp39-macosx_10_9_x86_64.whl (13 kB)\n",
      "Collecting tzlocal\n",
      "  Using cached tzlocal-5.2-py3-none-any.whl (17 kB)\n",
      "Collecting fsspec\n",
      "  Using cached fsspec-2023.12.1-py3-none-any.whl (168 kB)\n",
      "Processing /Users/jayden/Library/Caches/pip/wheels/36/91/cc/cb4be3581fd6cd95b73d2b229d66c8975c2d0a1087fa8703b2/PyHopsHive-0.6.4.1.dev0-py3-none-any.whl\n",
      "Collecting pyarrow>=10.0\n",
      "  Using cached pyarrow-14.0.1-cp39-cp39-macosx_10_14_x86_64.whl (26.9 MB)\n",
      "Collecting confluent-kafka<=2.1.1\n",
      "  Using cached confluent_kafka-2.1.1-cp39-cp39-macosx_10_9_x86_64.whl (3.3 MB)\n",
      "Processing /Users/jayden/Library/Caches/pip/wheels/e5/c2/16/f3b2e8cbf0b6caeb21668b4f1e15861e5132f676b1c85488a4/fastavro-1.8.2-cp39-cp39-macosx_10_9_x86_64.whl\n",
      "Collecting pycryptodomex\n",
      "  Using cached pycryptodomex-3.19.0-cp35-abi3-macosx_10_9_x86_64.whl (1.6 MB)\n",
      "Collecting javaobj-py3\n",
      "  Using cached javaobj_py3-0.4.3-py2.py3-none-any.whl (57 kB)\n",
      "Collecting pyasn1>=0.3.5\n",
      "  Using cached pyasn1-0.5.1-py2.py3-none-any.whl (84 kB)\n",
      "Collecting pyasn1-modules\n",
      "  Using cached pyasn1_modules-0.3.0-py2.py3-none-any.whl (181 kB)\n",
      "Processing /Users/jayden/Library/Caches/pip/wheels/22/ab/49/e7c24b9ca4ce43612aae117178b9d5fda19f2c8e55d9dc9a9d/twofish-0.3.0-cp39-cp39-macosx_10_9_x86_64.whl\n",
      "Collecting orderedmultidict>=1.0.1\n",
      "  Using cached orderedmultidict-1.0.1-py2.py3-none-any.whl (11 kB)\n",
      "Requirement already satisfied: six>=1.8.0 in ./inference-env/lib/python3.9/site-packages (from furl->hopsworks) (1.16.0)\n",
      "Collecting certifi>=2017.4.17\n",
      "  Using cached certifi-2023.11.17-py3-none-any.whl (162 kB)\n",
      "Collecting idna<4,>=2.5\n",
      "  Using cached idna-3.6-py3-none-any.whl (61 kB)\n",
      "Collecting charset-normalizer<4,>=2\n",
      "  Using cached charset_normalizer-3.3.2-cp39-cp39-macosx_10_9_x86_64.whl (122 kB)\n",
      "Collecting urllib3<3,>=1.21.1\n",
      "  Using cached urllib3-2.1.0-py3-none-any.whl (104 kB)\n",
      "Requirement already satisfied: python-dateutil<3.0.0,>=2.1 in ./inference-env/lib/python3.9/site-packages (from botocore<1.34.0,>=1.33.9->boto3->hopsworks) (2.8.2)\n",
      "Collecting tzdata>=2022.1\n",
      "  Using cached tzdata-2023.3-py2.py3-none-any.whl (341 kB)\n",
      "Collecting pytz>=2020.1\n",
      "  Using cached pytz-2023.3.post1-py2.py3-none-any.whl (502 kB)\n",
      "Collecting greenlet!=0.4.17; platform_machine == \"aarch64\" or (platform_machine == \"ppc64le\" or (platform_machine == \"x86_64\" or (platform_machine == \"amd64\" or (platform_machine == \"AMD64\" or (platform_machine == \"win32\" or platform_machine == \"WIN32\")))))\n",
      "  Using cached greenlet-3.0.1.tar.gz (174 kB)\n",
      "Requirement already satisfied: typing-extensions>=4.2.0 in ./inference-env/lib/python3.9/site-packages (from sqlalchemy->hsfs[python]<3.5.0,>=3.4.0->hopsworks) (4.8.0)\n",
      "Collecting cryptography; extra == \"rsa\"\n",
      "  Using cached cryptography-41.0.7-cp37-abi3-macosx_10_12_x86_64.whl (2.9 MB)\n",
      "Collecting jsonpatch>=1.22\n",
      "  Using cached jsonpatch-1.33-py2.py3-none-any.whl (12 kB)\n",
      "Collecting scipy>=0.19.0\n",
      "  Using cached scipy-1.11.4-cp39-cp39-macosx_10_9_x86_64.whl (37.3 MB)\n",
      "Collecting jsonschema>=2.5.1\n",
      "  Using cached jsonschema-4.20.0-py3-none-any.whl (84 kB)\n",
      "Collecting termcolor>=1.1.0\n",
      "  Using cached termcolor-2.4.0-py3-none-any.whl (7.7 kB)\n",
      "Collecting pyparsing<3,>=2.4\n",
      "  Using cached pyparsing-2.4.7-py2.py3-none-any.whl (67 kB)\n",
      "Collecting ruamel.yaml<0.17.18,>=0.16\n",
      "  Using cached ruamel.yaml-0.17.17-py3-none-any.whl (109 kB)\n",
      "Collecting altair<5,>=4.0.0\n",
      "  Using cached altair-4.2.2-py3-none-any.whl (813 kB)\n",
      "Collecting Click>=7.1.2\n",
      "  Using cached click-8.1.7-py3-none-any.whl (97 kB)\n",
      "Requirement already satisfied: Ipython>=7.16.3 in ./inference-env/lib/python3.9/site-packages (from great_expectations==0.14.13->hsfs[python]<3.5.0,>=3.4.0->hopsworks) (8.18.1)\n",
      "Collecting jinja2<3.1.0,>=2.10\n",
      "  Using cached Jinja2-3.0.3-py3-none-any.whl (133 kB)\n",
      "Collecting colorama>=0.4.3\n",
      "  Using cached colorama-0.4.6-py2.py3-none-any.whl (25 kB)\n",
      "Requirement already satisfied: importlib-metadata>=1.7.0 in ./inference-env/lib/python3.9/site-packages (from great_expectations==0.14.13->hsfs[python]<3.5.0,>=3.4.0->hopsworks) (7.0.0)\n",
      "Requirement already satisfied: packaging in ./inference-env/lib/python3.9/site-packages (from great_expectations==0.14.13->hsfs[python]<3.5.0,>=3.4.0->hopsworks) (23.2)\n",
      "Collecting dataclasses\n",
      "  Using cached dataclasses-0.6-py3-none-any.whl (14 kB)\n",
      "Collecting nbformat>=5.0\n",
      "  Using cached nbformat-5.9.2-py3-none-any.whl (77 kB)\n",
      "Collecting mistune>=0.8.4\n",
      "  Using cached mistune-3.0.2-py3-none-any.whl (47 kB)\n",
      "Processing /Users/jayden/Library/Caches/pip/wheels/bf/5d/6a/2e53874f7ec4e2bede522385439531fafec8fafe005b5c3d1b/future-0.18.3-py3-none-any.whl\n",
      "Processing /Users/jayden/Library/Caches/pip/wheels/67/b1/a4/cf8b927fdbee8e55234f1f421b531685b960e5f23b6273cfcf/thrift-0.16.0-cp39-cp39-macosx_10_9_x86_64.whl\n",
      "Collecting cffi>=1.12\n",
      "  Using cached cffi-1.16.0-cp39-cp39-macosx_10_9_x86_64.whl (182 kB)\n",
      "Collecting jsonpointer>=1.9\n",
      "  Using cached jsonpointer-2.4-py2.py3-none-any.whl (7.8 kB)\n",
      "Collecting referencing>=0.28.4\n",
      "  Using cached referencing-0.32.0-py3-none-any.whl (26 kB)\n",
      "Collecting rpds-py>=0.7.1\n",
      "  Using cached rpds_py-0.13.2-cp39-cp39-macosx_10_7_x86_64.whl (337 kB)\n",
      "Collecting jsonschema-specifications>=2023.03.6\n",
      "  Using cached jsonschema_specifications-2023.11.2-py3-none-any.whl (17 kB)\n",
      "Collecting attrs>=22.2.0\n",
      "  Using cached attrs-23.1.0-py3-none-any.whl (61 kB)\n",
      "Collecting ruamel.yaml.clib>=0.1.2; platform_python_implementation == \"CPython\" and python_version < \"3.10\"\n",
      "  Using cached ruamel.yaml.clib-0.2.8-cp39-cp39-macosx_10_9_x86_64.whl (148 kB)\n",
      "Collecting entrypoints\n",
      "  Using cached entrypoints-0.4-py3-none-any.whl (5.3 kB)\n",
      "Collecting toolz\n",
      "  Using cached toolz-0.12.0-py3-none-any.whl (55 kB)\n",
      "Requirement already satisfied: jedi>=0.16 in ./inference-env/lib/python3.9/site-packages (from Ipython>=7.16.3->great_expectations==0.14.13->hsfs[python]<3.5.0,>=3.4.0->hopsworks) (0.19.1)\n",
      "Requirement already satisfied: stack-data in ./inference-env/lib/python3.9/site-packages (from Ipython>=7.16.3->great_expectations==0.14.13->hsfs[python]<3.5.0,>=3.4.0->hopsworks) (0.6.3)\n",
      "Requirement already satisfied: traitlets>=5 in ./inference-env/lib/python3.9/site-packages (from Ipython>=7.16.3->great_expectations==0.14.13->hsfs[python]<3.5.0,>=3.4.0->hopsworks) (5.14.0)\n",
      "Requirement already satisfied: exceptiongroup; python_version < \"3.11\" in ./inference-env/lib/python3.9/site-packages (from Ipython>=7.16.3->great_expectations==0.14.13->hsfs[python]<3.5.0,>=3.4.0->hopsworks) (1.2.0)\n",
      "Requirement already satisfied: pygments>=2.4.0 in ./inference-env/lib/python3.9/site-packages (from Ipython>=7.16.3->great_expectations==0.14.13->hsfs[python]<3.5.0,>=3.4.0->hopsworks) (2.17.2)\n",
      "Requirement already satisfied: decorator in ./inference-env/lib/python3.9/site-packages (from Ipython>=7.16.3->great_expectations==0.14.13->hsfs[python]<3.5.0,>=3.4.0->hopsworks) (5.1.1)\n",
      "Requirement already satisfied: pexpect>4.3; sys_platform != \"win32\" in ./inference-env/lib/python3.9/site-packages (from Ipython>=7.16.3->great_expectations==0.14.13->hsfs[python]<3.5.0,>=3.4.0->hopsworks) (4.9.0)\n",
      "Requirement already satisfied: matplotlib-inline in ./inference-env/lib/python3.9/site-packages (from Ipython>=7.16.3->great_expectations==0.14.13->hsfs[python]<3.5.0,>=3.4.0->hopsworks) (0.1.6)\n",
      "Requirement already satisfied: prompt-toolkit<3.1.0,>=3.0.41 in ./inference-env/lib/python3.9/site-packages (from Ipython>=7.16.3->great_expectations==0.14.13->hsfs[python]<3.5.0,>=3.4.0->hopsworks) (3.0.41)\n",
      "Requirement already satisfied: zipp>=0.5 in ./inference-env/lib/python3.9/site-packages (from importlib-metadata>=1.7.0->great_expectations==0.14.13->hsfs[python]<3.5.0,>=3.4.0->hopsworks) (3.17.0)\n",
      "Collecting fastjsonschema\n",
      "  Using cached fastjsonschema-2.19.0-py3-none-any.whl (23 kB)\n",
      "Requirement already satisfied: jupyter-core in ./inference-env/lib/python3.9/site-packages (from nbformat>=5.0->great_expectations==0.14.13->hsfs[python]<3.5.0,>=3.4.0->hopsworks) (5.5.0)\n",
      "Collecting pycparser\n",
      "  Using cached pycparser-2.21-py2.py3-none-any.whl (118 kB)\n",
      "Requirement already satisfied: parso<0.9.0,>=0.8.3 in ./inference-env/lib/python3.9/site-packages (from jedi>=0.16->Ipython>=7.16.3->great_expectations==0.14.13->hsfs[python]<3.5.0,>=3.4.0->hopsworks) (0.8.3)\n",
      "Requirement already satisfied: pure-eval in ./inference-env/lib/python3.9/site-packages (from stack-data->Ipython>=7.16.3->great_expectations==0.14.13->hsfs[python]<3.5.0,>=3.4.0->hopsworks) (0.2.2)\n",
      "Requirement already satisfied: executing>=1.2.0 in ./inference-env/lib/python3.9/site-packages (from stack-data->Ipython>=7.16.3->great_expectations==0.14.13->hsfs[python]<3.5.0,>=3.4.0->hopsworks) (2.0.1)\n",
      "Requirement already satisfied: asttokens>=2.1.0 in ./inference-env/lib/python3.9/site-packages (from stack-data->Ipython>=7.16.3->great_expectations==0.14.13->hsfs[python]<3.5.0,>=3.4.0->hopsworks) (2.4.1)\n",
      "Requirement already satisfied: ptyprocess>=0.5 in ./inference-env/lib/python3.9/site-packages (from pexpect>4.3; sys_platform != \"win32\"->Ipython>=7.16.3->great_expectations==0.14.13->hsfs[python]<3.5.0,>=3.4.0->hopsworks) (0.7.0)\n",
      "Requirement already satisfied: wcwidth in ./inference-env/lib/python3.9/site-packages (from prompt-toolkit<3.1.0,>=3.0.41->Ipython>=7.16.3->great_expectations==0.14.13->hsfs[python]<3.5.0,>=3.4.0->hopsworks) (0.2.12)\n",
      "Requirement already satisfied: platformdirs>=2.5 in ./inference-env/lib/python3.9/site-packages (from jupyter-core->nbformat>=5.0->great_expectations==0.14.13->hsfs[python]<3.5.0,>=3.4.0->hopsworks) (4.1.0)\n",
      "Using legacy 'setup.py install' for hsfs, since package 'wheel' is not installed.\n",
      "Using legacy 'setup.py install' for greenlet, since package 'wheel' is not installed.\n",
      "Installing collected packages: jmespath, urllib3, botocore, s3transfer, boto3, pyhumps, certifi, idna, charset-normalizer, requests, orderedmultidict, furl, numpy, tzdata, pytz, pandas, pycryptodomex, javaobj-py3, pyasn1, pyasn1-modules, twofish, pyjks, mock, avro, greenlet, sqlalchemy, pycparser, cffi, cryptography, PyMySQL, tqdm, jsonpointer, jsonpatch, scipy, tzlocal, attrs, rpds-py, referencing, jsonschema-specifications, jsonschema, termcolor, pyparsing, ruamel.yaml.clib, ruamel.yaml, entrypoints, markupsafe, jinja2, toolz, altair, Click, colorama, dataclasses, fastjsonschema, nbformat, mistune, great-expectations, fsspec, future, thrift, pyhopshive, pyarrow, confluent-kafka, fastavro, hsfs, hsml, hopsworks\n",
      "    Running setup.py install for greenlet ... \u001b[?25ldone\n",
      "\u001b[?25h    Running setup.py install for hsfs ... \u001b[?25ldone\n",
      "\u001b[?25h\u001b[31mERROR: After October 2020 you may experience errors when installing or updating packages. This is because pip will change the way that it resolves dependency conflicts.\n",
      "\n",
      "We recommend you use --use-feature=2020-resolver to test your packages with the new resolver before it becomes the default.\n",
      "\n",
      "botocore 1.33.9 requires urllib3<1.27,>=1.25.4; python_version < \"3.10\", but you'll have urllib3 2.1.0 which is incompatible.\n",
      "great-expectations 0.14.13 requires urllib3<1.27,>=1.25.4, but you'll have urllib3 2.1.0 which is incompatible.\u001b[0m\n",
      "Successfully installed Click-8.1.7 PyMySQL-1.1.0 altair-4.2.2 attrs-23.1.0 avro-1.11.0 boto3-1.33.9 botocore-1.33.9 certifi-2023.11.17 cffi-1.16.0 charset-normalizer-3.3.2 colorama-0.4.6 confluent-kafka-2.1.1 cryptography-41.0.7 dataclasses-0.6 entrypoints-0.4 fastavro-1.8.2 fastjsonschema-2.19.0 fsspec-2023.12.1 furl-2.1.3 future-0.18.3 great-expectations-0.14.13 greenlet-3.0.1 hopsworks-3.4.3 hsfs-3.4.5 hsml-3.4.5 idna-3.6 javaobj-py3-0.4.3 jinja2-3.0.3 jmespath-1.0.1 jsonpatch-1.33 jsonpointer-2.4 jsonschema-4.20.0 jsonschema-specifications-2023.11.2 markupsafe-2.0.1 mistune-3.0.2 mock-5.1.0 nbformat-5.9.2 numpy-1.26.2 orderedmultidict-1.0.1 pandas-2.0.3 pyarrow-14.0.1 pyasn1-0.5.1 pyasn1-modules-0.3.0 pycparser-2.21 pycryptodomex-3.19.0 pyhopshive-0.6.4.1.dev0 pyhumps-1.6.1 pyjks-20.0.0 pyparsing-2.4.7 pytz-2023.3.post1 referencing-0.32.0 requests-2.31.0 rpds-py-0.13.2 ruamel.yaml-0.17.17 ruamel.yaml.clib-0.2.8 s3transfer-0.8.2 scipy-1.11.4 sqlalchemy-2.0.23 termcolor-2.4.0 thrift-0.16.0 toolz-0.12.0 tqdm-4.66.1 twofish-0.3.0 tzdata-2023.3 tzlocal-5.2 urllib3-2.1.0\n",
      "\u001b[33mWARNING: You are using pip version 20.2.3; however, version 23.3.1 is available.\n",
      "You should consider upgrading via the '/Users/jayden/Documents/Resources/Y4S1-KTH/ID2223/Labs/Project/inference-env/bin/python3.9 -m pip install --upgrade pip' command.\u001b[0m\n"
     ]
    }
   ],
   "source": [
    "!pip install hopsworks"
   ]
  },
  {
   "cell_type": "code",
   "execution_count": 2,
   "metadata": {},
   "outputs": [
    {
     "name": "stderr",
     "output_type": "stream",
     "text": [
      "/Users/jayden/Documents/Resources/Y4S1-KTH/ID2223/Labs/Project/inference-env/lib/python3.9/site-packages/tqdm/auto.py:21: TqdmWarning: IProgress not found. Please update jupyter and ipywidgets. See https://ipywidgets.readthedocs.io/en/stable/user_install.html\n",
      "  from .autonotebook import tqdm as notebook_tqdm\n"
     ]
    },
    {
     "name": "stdout",
     "output_type": "stream",
     "text": [
      "Connected. Call `.close()` to terminate connection gracefully.\n",
      "\n",
      "Logged in to project, explore it here https://c.app.hopsworks.ai:443/p/197787\n"
     ]
    }
   ],
   "source": [
    "import hopsworks\n",
    "project = hopsworks.login()"
   ]
  },
  {
   "cell_type": "code",
   "execution_count": 17,
   "metadata": {},
   "outputs": [
    {
     "name": "stderr",
     "output_type": "stream",
     "text": [
      "DeprecationWarning: \n",
      "        on_event is deprecated, use lifespan event handlers instead.\n",
      "\n",
      "        Read more about it in the\n",
      "        [FastAPI docs for Lifespan Events](https://fastapi.tiangolo.com/advanced/events/).\n",
      "        \n",
      "DeprecationWarning: \n",
      "        on_event is deprecated, use lifespan event handlers instead.\n",
      "\n",
      "        Read more about it in the\n",
      "        [FastAPI docs for Lifespan Events](https://fastapi.tiangolo.com/advanced/events/).\n",
      "        \n"
     ]
    },
    {
     "name": "stdout",
     "output_type": "stream",
     "text": [
      "Running on local URL:  http://127.0.0.1:7872\n",
      "\n",
      "To create a public link, set `share=True` in `launch()`.\n"
     ]
    },
    {
     "data": {
      "text/html": [
       "<div><iframe src=\"http://127.0.0.1:7872/\" width=\"100%\" height=\"500\" allow=\"autoplay; camera; microphone; clipboard-read; clipboard-write;\" frameborder=\"0\" allowfullscreen></iframe></div>"
      ],
      "text/plain": [
       "<IPython.core.display.HTML object>"
      ]
     },
     "metadata": {},
     "output_type": "display_data"
    },
    {
     "data": {
      "text/plain": []
     },
     "execution_count": 17,
     "metadata": {},
     "output_type": "execute_result"
    },
    {
     "name": "stdout",
     "output_type": "stream",
     "text": [
      "Connected. Call `.close()` to terminate connection gracefully.\n",
      "Downloading model artifact (0 dirs, 2 files)... DONE\r"
     ]
    },
    {
     "name": "stderr",
     "output_type": "stream",
     "text": [
      "[18:06:06] WARNING: /Users/runner/work/xgboost/xgboost/src/gbm/gbtree.cc:385: Changing updater from `grow_gpu_hist` to `grow_quantile_histmaker`.\n"
     ]
    },
    {
     "name": "stdout",
     "output_type": "stream",
     "text": [
      "Connected. Call `.close()` to terminate connection gracefully.\n",
      "Downloading model artifact (0 dirs, 2 files)... DONE\r"
     ]
    },
    {
     "name": "stderr",
     "output_type": "stream",
     "text": [
      "[18:08:15] WARNING: /Users/runner/work/xgboost/xgboost/src/gbm/gbtree.cc:385: Changing updater from `grow_gpu_hist` to `grow_quantile_histmaker`.\n"
     ]
    },
    {
     "name": "stdout",
     "output_type": "stream",
     "text": [
      "Connected. Call `.close()` to terminate connection gracefully.\n",
      "Downloading model artifact (0 dirs, 2 files)... DONE\r"
     ]
    },
    {
     "name": "stderr",
     "output_type": "stream",
     "text": [
      "[18:08:41] WARNING: /Users/runner/work/xgboost/xgboost/src/gbm/gbtree.cc:385: Changing updater from `grow_gpu_hist` to `grow_quantile_histmaker`.\n"
     ]
    }
   ],
   "source": [
    "import pandas as pd\n",
    "from sklearn.preprocessing import LabelEncoder\n",
    "import joblib\n",
    "import gradio as gr\n",
    "\n",
    "def determine_valuation(row):\n",
    "    tolerance = 0.05  # 5% tolerance\n",
    "    if row['Actual'] < row['Predicted'] * (1 - tolerance):\n",
    "        return 'UNDERVALUED'\n",
    "    elif row['Actual'] > row['Predicted'] * (1 + tolerance):\n",
    "        return 'OVERVALUED'\n",
    "    else:\n",
    "        return 'FAIR-VALUED'\n",
    "\n",
    "def valuate(file):\n",
    "    df = pd.read_csv(file)\n",
    "    q1 = df['list_price'].quantile(0.25)\n",
    "    q3 = df['list_price'].quantile(0.75)\n",
    "    iqr = q3 - q1\n",
    "    filtered_df = df.query('(@q1 - 1.5 * @iqr) <= list_price <= (@q3 + 1.5 * @iqr)')\n",
    "    q1 = filtered_df['sqft'].quantile(0.25)\n",
    "    q3 = filtered_df['sqft'].quantile(0.75)\n",
    "    iqr = q3 - q1\n",
    "    filtered_df = filtered_df.query('(@q1 - 1.5 * @iqr) <= sqft <= (@q3 + 1.5 * @iqr)')\n",
    "    q1 = filtered_df['price_per_sqft'].quantile(0.25)\n",
    "    q3 = filtered_df['price_per_sqft'].quantile(0.75)\n",
    "    iqr = q3 - q1\n",
    "    filtered_df = filtered_df.query('(@q1 - 1.5 * @iqr) <= price_per_sqft <= (@q3 + 1.5 * @iqr)')\n",
    "    q1 = filtered_df['stories'].quantile(0.25)\n",
    "    q3 = filtered_df['stories'].quantile(0.75)\n",
    "    iqr = q3 - q1\n",
    "    filtered_df = filtered_df.query('(@q1 - 1.5 * @iqr) <= stories <= (@q3 + 1.5 * @iqr)')\n",
    "    filtered_df = filtered_df.dropna(subset=['sqft', 'list_price', 'price_per_sqft', 'stories', 'year_built'])\n",
    "    filtered_df = filtered_df.dropna(subset=['sqft', 'list_price', 'price_per_sqft', 'stories', 'year_built'])\n",
    "    feature_df = filtered_df.drop(columns=['property_url', 'mls', 'mls_id', 'status', 'street', 'unit', 'last_sold_date', 'sold_price', 'days_on_mls', 'primary_photo', 'alt_photos'])\n",
    "    feature_df.fillna(0, inplace=True)\n",
    "    le = LabelEncoder()\n",
    "    le.fit(feature_df['style'])\n",
    "    encoded_labels = le.transform(feature_df['style'])\n",
    "    feature_df['style'] = encoded_labels\n",
    "    le.fit(feature_df['city'])\n",
    "    encoded_labels = le.transform(feature_df['city'])\n",
    "    feature_df['city'] = encoded_labels\n",
    "    le.fit(feature_df['state'])\n",
    "    encoded_labels = le.transform(feature_df['state'])\n",
    "    feature_df['state'] = encoded_labels\n",
    "    le.fit(feature_df['list_date'])\n",
    "    encoded_labels = le.transform(feature_df['list_date'])\n",
    "    feature_df['list_date'] = encoded_labels    \n",
    "    true_values = feature_df['list_price']\n",
    "    feature_df = feature_df.drop('list_price', axis=1)\n",
    "\n",
    "    mr = project.get_model_registry()\n",
    "    model = mr.get_model(\"xgboost_model\", version=3)\n",
    "    model_dir = model.download()\n",
    "    model = joblib.load(model_dir + \"/xgboost_model.pkl\")\n",
    "\n",
    "    predicted_val = model.predict(feature_df)\n",
    "\n",
    "    result = pd.DataFrame({'Property URL': filtered_df['property_url'], 'Predicted': predicted_val, 'Actual': true_values})\n",
    "    result['valuation'] = result.apply(determine_valuation, axis=1)\n",
    "\n",
    "    return result\n",
    "\n",
    "iface1 = gr.Interface(\n",
    "    fn=valuate,\n",
    "    inputs=gr.File(type='filepath'),\n",
    "    outputs=\"dataframe\",\n",
    "    title=\"New York Residential Property Valuation\",\n",
    "    description=\"Identify Undervalued Properties in New York!\",\n",
    ")\n",
    "\n",
    "gr.TabbedInterface(\n",
    "    [iface1], [\"New York\"]\n",
    ").launch()"
   ]
  }
 ],
 "metadata": {
  "kernelspec": {
   "display_name": "Python 3 (ipykernel)",
   "language": "python",
   "name": "python3"
  },
  "language_info": {
   "codemirror_mode": {
    "name": "ipython",
    "version": 3
   },
   "file_extension": ".py",
   "mimetype": "text/x-python",
   "name": "python",
   "nbconvert_exporter": "python",
   "pygments_lexer": "ipython3",
   "version": "3.9.1"
  }
 },
 "nbformat": 4,
 "nbformat_minor": 4
}
