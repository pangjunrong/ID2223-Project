{
 "cells": [
  {
   "cell_type": "code",
   "execution_count": 14,
   "metadata": {},
   "outputs": [
    {
     "name": "stdout",
     "output_type": "stream",
     "text": [
      "Requirement already satisfied: hopsworks in ./inference-env/lib/python3.9/site-packages (3.4.3)\n",
      "Requirement already satisfied: pyhumps==1.6.1 in ./inference-env/lib/python3.9/site-packages (from hopsworks) (1.6.1)\n",
      "Requirement already satisfied: tqdm in ./inference-env/lib/python3.9/site-packages (from hopsworks) (4.66.1)\n",
      "Requirement already satisfied: hsfs[python]<3.5.0,>=3.4.0 in ./inference-env/lib/python3.9/site-packages (from hopsworks) (3.4.5)\n",
      "Requirement already satisfied: requests in ./inference-env/lib/python3.9/site-packages (from hopsworks) (2.31.0)\n",
      "Requirement already satisfied: hsml<3.5.0,>=3.4.0 in ./inference-env/lib/python3.9/site-packages (from hopsworks) (3.4.5)\n",
      "Requirement already satisfied: furl in ./inference-env/lib/python3.9/site-packages (from hopsworks) (2.1.3)\n",
      "Requirement already satisfied: pyjks in ./inference-env/lib/python3.9/site-packages (from hopsworks) (20.0.0)\n",
      "Requirement already satisfied: mock in ./inference-env/lib/python3.9/site-packages (from hopsworks) (5.1.0)\n",
      "Requirement already satisfied: boto3 in ./inference-env/lib/python3.9/site-packages (from hopsworks) (1.33.9)\n",
      "Requirement already satisfied: pandas<2.1.0 in ./inference-env/lib/python3.9/site-packages (from hsfs[python]<3.5.0,>=3.4.0->hopsworks) (2.0.3)\n",
      "Requirement already satisfied: numpy<2 in ./inference-env/lib/python3.9/site-packages (from hsfs[python]<3.5.0,>=3.4.0->hopsworks) (1.26.2)\n",
      "Requirement already satisfied: avro==1.11.0 in ./inference-env/lib/python3.9/site-packages (from hsfs[python]<3.5.0,>=3.4.0->hopsworks) (1.11.0)\n",
      "Requirement already satisfied: sqlalchemy in ./inference-env/lib/python3.9/site-packages (from hsfs[python]<3.5.0,>=3.4.0->hopsworks) (2.0.23)\n",
      "Requirement already satisfied: PyMySQL[rsa] in ./inference-env/lib/python3.9/site-packages (from hsfs[python]<3.5.0,>=3.4.0->hopsworks) (1.1.0)\n",
      "Requirement already satisfied: great_expectations==0.14.13 in ./inference-env/lib/python3.9/site-packages (from hsfs[python]<3.5.0,>=3.4.0->hopsworks) (0.14.13)\n",
      "Requirement already satisfied: markupsafe<2.1.0 in ./inference-env/lib/python3.9/site-packages (from hsfs[python]<3.5.0,>=3.4.0->hopsworks) (2.0.1)\n",
      "Requirement already satisfied: tzlocal in ./inference-env/lib/python3.9/site-packages (from hsfs[python]<3.5.0,>=3.4.0->hopsworks) (5.2)\n",
      "Requirement already satisfied: fsspec in ./inference-env/lib/python3.9/site-packages (from hsfs[python]<3.5.0,>=3.4.0->hopsworks) (2023.12.1)\n",
      "Requirement already satisfied: pyhopshive[thrift] in ./inference-env/lib/python3.9/site-packages (from hsfs[python]<3.5.0,>=3.4.0->hopsworks) (0.6.4.1.dev0)\n",
      "Requirement already satisfied: pyarrow>=10.0 in ./inference-env/lib/python3.9/site-packages (from hsfs[python]<3.5.0,>=3.4.0->hopsworks) (14.0.1)\n",
      "Requirement already satisfied: confluent-kafka<=2.1.1 in ./inference-env/lib/python3.9/site-packages (from hsfs[python]<3.5.0,>=3.4.0->hopsworks) (2.1.1)\n",
      "Requirement already satisfied: fastavro<=1.8.2,>=1.4.11 in ./inference-env/lib/python3.9/site-packages (from hsfs[python]<3.5.0,>=3.4.0->hopsworks) (1.8.2)\n",
      "Requirement already satisfied: certifi>=2017.4.17 in ./inference-env/lib/python3.9/site-packages (from requests->hopsworks) (2023.11.17)\n",
      "Requirement already satisfied: idna<4,>=2.5 in ./inference-env/lib/python3.9/site-packages (from requests->hopsworks) (3.6)\n",
      "Requirement already satisfied: urllib3<3,>=1.21.1 in ./inference-env/lib/python3.9/site-packages (from requests->hopsworks) (2.1.0)\n",
      "Requirement already satisfied: charset-normalizer<4,>=2 in ./inference-env/lib/python3.9/site-packages (from requests->hopsworks) (3.3.2)\n",
      "Requirement already satisfied: orderedmultidict>=1.0.1 in ./inference-env/lib/python3.9/site-packages (from furl->hopsworks) (1.0.1)\n",
      "Requirement already satisfied: six>=1.8.0 in ./inference-env/lib/python3.9/site-packages (from furl->hopsworks) (1.16.0)\n",
      "Requirement already satisfied: pyasn1-modules in ./inference-env/lib/python3.9/site-packages (from pyjks->hopsworks) (0.3.0)\n",
      "Requirement already satisfied: pycryptodomex in ./inference-env/lib/python3.9/site-packages (from pyjks->hopsworks) (3.19.0)\n",
      "Requirement already satisfied: javaobj-py3 in ./inference-env/lib/python3.9/site-packages (from pyjks->hopsworks) (0.4.3)\n",
      "Requirement already satisfied: pyasn1>=0.3.5 in ./inference-env/lib/python3.9/site-packages (from pyjks->hopsworks) (0.5.1)\n",
      "Requirement already satisfied: twofish in ./inference-env/lib/python3.9/site-packages (from pyjks->hopsworks) (0.3.0)\n",
      "Requirement already satisfied: s3transfer<0.9.0,>=0.8.2 in ./inference-env/lib/python3.9/site-packages (from boto3->hopsworks) (0.8.2)\n",
      "Requirement already satisfied: jmespath<2.0.0,>=0.7.1 in ./inference-env/lib/python3.9/site-packages (from boto3->hopsworks) (1.0.1)\n",
      "Requirement already satisfied: botocore<1.34.0,>=1.33.9 in ./inference-env/lib/python3.9/site-packages (from boto3->hopsworks) (1.33.9)\n",
      "Requirement already satisfied: pytz>=2020.1 in ./inference-env/lib/python3.9/site-packages (from pandas<2.1.0->hsfs[python]<3.5.0,>=3.4.0->hopsworks) (2023.3.post1)\n",
      "Requirement already satisfied: python-dateutil>=2.8.2 in ./inference-env/lib/python3.9/site-packages (from pandas<2.1.0->hsfs[python]<3.5.0,>=3.4.0->hopsworks) (2.8.2)\n",
      "Requirement already satisfied: tzdata>=2022.1 in ./inference-env/lib/python3.9/site-packages (from pandas<2.1.0->hsfs[python]<3.5.0,>=3.4.0->hopsworks) (2023.3)\n",
      "Requirement already satisfied: typing-extensions>=4.2.0 in ./inference-env/lib/python3.9/site-packages (from sqlalchemy->hsfs[python]<3.5.0,>=3.4.0->hopsworks) (4.8.0)\n",
      "Requirement already satisfied: greenlet!=0.4.17; platform_machine == \"aarch64\" or (platform_machine == \"ppc64le\" or (platform_machine == \"x86_64\" or (platform_machine == \"amd64\" or (platform_machine == \"AMD64\" or (platform_machine == \"win32\" or platform_machine == \"WIN32\"))))) in ./inference-env/lib/python3.9/site-packages (from sqlalchemy->hsfs[python]<3.5.0,>=3.4.0->hopsworks) (3.0.1)\n",
      "Requirement already satisfied: cryptography; extra == \"rsa\" in ./inference-env/lib/python3.9/site-packages (from PyMySQL[rsa]->hsfs[python]<3.5.0,>=3.4.0->hopsworks) (41.0.7)\n",
      "Requirement already satisfied: packaging in ./inference-env/lib/python3.9/site-packages (from great_expectations==0.14.13->hsfs[python]<3.5.0,>=3.4.0->hopsworks) (23.2)\n",
      "Requirement already satisfied: mistune>=0.8.4 in ./inference-env/lib/python3.9/site-packages (from great_expectations==0.14.13->hsfs[python]<3.5.0,>=3.4.0->hopsworks) (3.0.2)\n",
      "Requirement already satisfied: termcolor>=1.1.0 in ./inference-env/lib/python3.9/site-packages (from great_expectations==0.14.13->hsfs[python]<3.5.0,>=3.4.0->hopsworks) (2.4.0)\n",
      "Requirement already satisfied: importlib-metadata>=1.7.0 in ./inference-env/lib/python3.9/site-packages (from great_expectations==0.14.13->hsfs[python]<3.5.0,>=3.4.0->hopsworks) (7.0.0)\n",
      "Requirement already satisfied: Ipython>=7.16.3 in ./inference-env/lib/python3.9/site-packages (from great_expectations==0.14.13->hsfs[python]<3.5.0,>=3.4.0->hopsworks) (8.18.1)\n",
      "Requirement already satisfied: jsonpatch>=1.22 in ./inference-env/lib/python3.9/site-packages (from great_expectations==0.14.13->hsfs[python]<3.5.0,>=3.4.0->hopsworks) (1.33)\n",
      "Requirement already satisfied: nbformat>=5.0 in ./inference-env/lib/python3.9/site-packages (from great_expectations==0.14.13->hsfs[python]<3.5.0,>=3.4.0->hopsworks) (5.9.2)\n",
      "Requirement already satisfied: jinja2<3.1.0,>=2.10 in ./inference-env/lib/python3.9/site-packages (from great_expectations==0.14.13->hsfs[python]<3.5.0,>=3.4.0->hopsworks) (3.0.3)\n",
      "Requirement already satisfied: pyparsing<3,>=2.4 in ./inference-env/lib/python3.9/site-packages (from great_expectations==0.14.13->hsfs[python]<3.5.0,>=3.4.0->hopsworks) (2.4.7)\n",
      "Requirement already satisfied: dataclasses in ./inference-env/lib/python3.9/site-packages (from great_expectations==0.14.13->hsfs[python]<3.5.0,>=3.4.0->hopsworks) (0.6)\n",
      "Requirement already satisfied: colorama>=0.4.3 in ./inference-env/lib/python3.9/site-packages (from great_expectations==0.14.13->hsfs[python]<3.5.0,>=3.4.0->hopsworks) (0.4.6)\n",
      "Requirement already satisfied: scipy>=0.19.0 in ./inference-env/lib/python3.9/site-packages (from great_expectations==0.14.13->hsfs[python]<3.5.0,>=3.4.0->hopsworks) (1.11.4)\n",
      "Requirement already satisfied: Click>=7.1.2 in ./inference-env/lib/python3.9/site-packages (from great_expectations==0.14.13->hsfs[python]<3.5.0,>=3.4.0->hopsworks) (8.1.7)\n",
      "Requirement already satisfied: altair<5,>=4.0.0 in ./inference-env/lib/python3.9/site-packages (from great_expectations==0.14.13->hsfs[python]<3.5.0,>=3.4.0->hopsworks) (4.2.2)\n",
      "Requirement already satisfied: jsonschema>=2.5.1 in ./inference-env/lib/python3.9/site-packages (from great_expectations==0.14.13->hsfs[python]<3.5.0,>=3.4.0->hopsworks) (4.20.0)\n",
      "Requirement already satisfied: ruamel.yaml<0.17.18,>=0.16 in ./inference-env/lib/python3.9/site-packages (from great_expectations==0.14.13->hsfs[python]<3.5.0,>=3.4.0->hopsworks) (0.17.17)\n",
      "Requirement already satisfied: future in ./inference-env/lib/python3.9/site-packages (from pyhopshive[thrift]->hsfs[python]<3.5.0,>=3.4.0->hopsworks) (0.18.3)\n",
      "Requirement already satisfied: thrift>=0.10.0; extra == \"thrift\" in ./inference-env/lib/python3.9/site-packages (from pyhopshive[thrift]->hsfs[python]<3.5.0,>=3.4.0->hopsworks) (0.16.0)\n",
      "Requirement already satisfied: cffi>=1.12 in ./inference-env/lib/python3.9/site-packages (from cryptography; extra == \"rsa\"->PyMySQL[rsa]->hsfs[python]<3.5.0,>=3.4.0->hopsworks) (1.16.0)\n",
      "Requirement already satisfied: zipp>=0.5 in ./inference-env/lib/python3.9/site-packages (from importlib-metadata>=1.7.0->great_expectations==0.14.13->hsfs[python]<3.5.0,>=3.4.0->hopsworks) (3.17.0)\n",
      "Requirement already satisfied: pexpect>4.3; sys_platform != \"win32\" in ./inference-env/lib/python3.9/site-packages (from Ipython>=7.16.3->great_expectations==0.14.13->hsfs[python]<3.5.0,>=3.4.0->hopsworks) (4.9.0)\n",
      "Requirement already satisfied: decorator in ./inference-env/lib/python3.9/site-packages (from Ipython>=7.16.3->great_expectations==0.14.13->hsfs[python]<3.5.0,>=3.4.0->hopsworks) (5.1.1)\n",
      "Requirement already satisfied: traitlets>=5 in ./inference-env/lib/python3.9/site-packages (from Ipython>=7.16.3->great_expectations==0.14.13->hsfs[python]<3.5.0,>=3.4.0->hopsworks) (5.14.0)\n",
      "Requirement already satisfied: pygments>=2.4.0 in ./inference-env/lib/python3.9/site-packages (from Ipython>=7.16.3->great_expectations==0.14.13->hsfs[python]<3.5.0,>=3.4.0->hopsworks) (2.17.2)\n",
      "Requirement already satisfied: prompt-toolkit<3.1.0,>=3.0.41 in ./inference-env/lib/python3.9/site-packages (from Ipython>=7.16.3->great_expectations==0.14.13->hsfs[python]<3.5.0,>=3.4.0->hopsworks) (3.0.41)\n",
      "Requirement already satisfied: jedi>=0.16 in ./inference-env/lib/python3.9/site-packages (from Ipython>=7.16.3->great_expectations==0.14.13->hsfs[python]<3.5.0,>=3.4.0->hopsworks) (0.19.1)\n",
      "Requirement already satisfied: stack-data in ./inference-env/lib/python3.9/site-packages (from Ipython>=7.16.3->great_expectations==0.14.13->hsfs[python]<3.5.0,>=3.4.0->hopsworks) (0.6.3)\n",
      "Requirement already satisfied: matplotlib-inline in ./inference-env/lib/python3.9/site-packages (from Ipython>=7.16.3->great_expectations==0.14.13->hsfs[python]<3.5.0,>=3.4.0->hopsworks) (0.1.6)\n",
      "Requirement already satisfied: exceptiongroup; python_version < \"3.11\" in ./inference-env/lib/python3.9/site-packages (from Ipython>=7.16.3->great_expectations==0.14.13->hsfs[python]<3.5.0,>=3.4.0->hopsworks) (1.2.0)\n",
      "Requirement already satisfied: jsonpointer>=1.9 in ./inference-env/lib/python3.9/site-packages (from jsonpatch>=1.22->great_expectations==0.14.13->hsfs[python]<3.5.0,>=3.4.0->hopsworks) (2.4)\n",
      "Requirement already satisfied: fastjsonschema in ./inference-env/lib/python3.9/site-packages (from nbformat>=5.0->great_expectations==0.14.13->hsfs[python]<3.5.0,>=3.4.0->hopsworks) (2.19.0)\n",
      "Requirement already satisfied: jupyter-core in ./inference-env/lib/python3.9/site-packages (from nbformat>=5.0->great_expectations==0.14.13->hsfs[python]<3.5.0,>=3.4.0->hopsworks) (5.5.0)\n",
      "Requirement already satisfied: toolz in ./inference-env/lib/python3.9/site-packages (from altair<5,>=4.0.0->great_expectations==0.14.13->hsfs[python]<3.5.0,>=3.4.0->hopsworks) (0.12.0)\n",
      "Requirement already satisfied: entrypoints in ./inference-env/lib/python3.9/site-packages (from altair<5,>=4.0.0->great_expectations==0.14.13->hsfs[python]<3.5.0,>=3.4.0->hopsworks) (0.4)\n",
      "Requirement already satisfied: jsonschema-specifications>=2023.03.6 in ./inference-env/lib/python3.9/site-packages (from jsonschema>=2.5.1->great_expectations==0.14.13->hsfs[python]<3.5.0,>=3.4.0->hopsworks) (2023.11.2)\n",
      "Requirement already satisfied: attrs>=22.2.0 in ./inference-env/lib/python3.9/site-packages (from jsonschema>=2.5.1->great_expectations==0.14.13->hsfs[python]<3.5.0,>=3.4.0->hopsworks) (23.1.0)\n",
      "Requirement already satisfied: rpds-py>=0.7.1 in ./inference-env/lib/python3.9/site-packages (from jsonschema>=2.5.1->great_expectations==0.14.13->hsfs[python]<3.5.0,>=3.4.0->hopsworks) (0.13.2)\n",
      "Requirement already satisfied: referencing>=0.28.4 in ./inference-env/lib/python3.9/site-packages (from jsonschema>=2.5.1->great_expectations==0.14.13->hsfs[python]<3.5.0,>=3.4.0->hopsworks) (0.32.0)\n",
      "Requirement already satisfied: ruamel.yaml.clib>=0.1.2; platform_python_implementation == \"CPython\" and python_version < \"3.10\" in ./inference-env/lib/python3.9/site-packages (from ruamel.yaml<0.17.18,>=0.16->great_expectations==0.14.13->hsfs[python]<3.5.0,>=3.4.0->hopsworks) (0.2.8)\n",
      "Requirement already satisfied: pycparser in ./inference-env/lib/python3.9/site-packages (from cffi>=1.12->cryptography; extra == \"rsa\"->PyMySQL[rsa]->hsfs[python]<3.5.0,>=3.4.0->hopsworks) (2.21)\n",
      "Requirement already satisfied: ptyprocess>=0.5 in ./inference-env/lib/python3.9/site-packages (from pexpect>4.3; sys_platform != \"win32\"->Ipython>=7.16.3->great_expectations==0.14.13->hsfs[python]<3.5.0,>=3.4.0->hopsworks) (0.7.0)\n",
      "Requirement already satisfied: wcwidth in ./inference-env/lib/python3.9/site-packages (from prompt-toolkit<3.1.0,>=3.0.41->Ipython>=7.16.3->great_expectations==0.14.13->hsfs[python]<3.5.0,>=3.4.0->hopsworks) (0.2.12)\n",
      "Requirement already satisfied: parso<0.9.0,>=0.8.3 in ./inference-env/lib/python3.9/site-packages (from jedi>=0.16->Ipython>=7.16.3->great_expectations==0.14.13->hsfs[python]<3.5.0,>=3.4.0->hopsworks) (0.8.3)\n",
      "Requirement already satisfied: executing>=1.2.0 in ./inference-env/lib/python3.9/site-packages (from stack-data->Ipython>=7.16.3->great_expectations==0.14.13->hsfs[python]<3.5.0,>=3.4.0->hopsworks) (2.0.1)\n",
      "Requirement already satisfied: pure-eval in ./inference-env/lib/python3.9/site-packages (from stack-data->Ipython>=7.16.3->great_expectations==0.14.13->hsfs[python]<3.5.0,>=3.4.0->hopsworks) (0.2.2)\n",
      "Requirement already satisfied: asttokens>=2.1.0 in ./inference-env/lib/python3.9/site-packages (from stack-data->Ipython>=7.16.3->great_expectations==0.14.13->hsfs[python]<3.5.0,>=3.4.0->hopsworks) (2.4.1)\n",
      "Requirement already satisfied: platformdirs>=2.5 in ./inference-env/lib/python3.9/site-packages (from jupyter-core->nbformat>=5.0->great_expectations==0.14.13->hsfs[python]<3.5.0,>=3.4.0->hopsworks) (4.1.0)\n",
      "\u001b[33mWARNING: You are using pip version 20.2.3; however, version 23.3.2 is available.\n",
      "You should consider upgrading via the '/Users/jayden/Documents/Resources/Y4S1-KTH/ID2223/Labs/Project/inference-env/bin/python3.9 -m pip install --upgrade pip' command.\u001b[0m\n"
     ]
    }
   ],
   "source": [
    "!pip install hopsworks"
   ]
  },
  {
   "cell_type": "code",
   "execution_count": 15,
   "metadata": {},
   "outputs": [
    {
     "name": "stdout",
     "output_type": "stream",
     "text": [
      "Connection closed.\n",
      "Connected. Call `.close()` to terminate connection gracefully.\n",
      "\n",
      "Logged in to project, explore it here https://c.app.hopsworks.ai:443/p/197787\n"
     ]
    }
   ],
   "source": [
    "import hopsworks\n",
    "project = hopsworks.login()"
   ]
  },
  {
   "cell_type": "code",
   "execution_count": 16,
   "metadata": {},
   "outputs": [
    {
     "name": "stderr",
     "output_type": "stream",
     "text": [
      "DeprecationWarning: \n",
      "        on_event is deprecated, use lifespan event handlers instead.\n",
      "\n",
      "        Read more about it in the\n",
      "        [FastAPI docs for Lifespan Events](https://fastapi.tiangolo.com/advanced/events/).\n",
      "        \n",
      "DeprecationWarning: \n",
      "        on_event is deprecated, use lifespan event handlers instead.\n",
      "\n",
      "        Read more about it in the\n",
      "        [FastAPI docs for Lifespan Events](https://fastapi.tiangolo.com/advanced/events/).\n",
      "        \n"
     ]
    },
    {
     "name": "stdout",
     "output_type": "stream",
     "text": [
      "Running on local URL:  http://127.0.0.1:7861\n",
      "Running on public URL: https://b89b1ab6c2b9310f2d.gradio.live\n",
      "\n",
      "This share link expires in 72 hours. For free permanent hosting and GPU upgrades, run `gradio deploy` from Terminal to deploy to Spaces (https://huggingface.co/spaces)\n"
     ]
    },
    {
     "data": {
      "text/html": [
       "<div><iframe src=\"https://b89b1ab6c2b9310f2d.gradio.live\" width=\"100%\" height=\"500\" allow=\"autoplay; camera; microphone; clipboard-read; clipboard-write;\" frameborder=\"0\" allowfullscreen></iframe></div>"
      ],
      "text/plain": [
       "<IPython.core.display.HTML object>"
      ]
     },
     "metadata": {},
     "output_type": "display_data"
    },
    {
     "data": {
      "text/plain": []
     },
     "execution_count": 16,
     "metadata": {},
     "output_type": "execute_result"
    }
   ],
   "source": [
    "import pandas as pd\n",
    "from sklearn.preprocessing import LabelEncoder\n",
    "import joblib\n",
    "import gradio as gr\n",
    "import matplotlib.pyplot as plt\n",
    "\n",
    "def determine_valuation(row):\n",
    "    tolerance = 0.05  # 5% tolerance\n",
    "    if row['Actual'] < row['Predicted'] * (1 - tolerance):\n",
    "        return 'UNDERVALUED'\n",
    "    elif row['Actual'] > row['Predicted'] * (1 + tolerance):\n",
    "        return 'OVERVALUED'\n",
    "    else:\n",
    "        return 'FAIR-VALUED'\n",
    "\n",
    "def valuate(file):\n",
    "    df = pd.read_csv(file)\n",
    "    q1 = df['list_price'].quantile(0.25)\n",
    "    q3 = df['list_price'].quantile(0.75)\n",
    "    iqr = q3 - q1\n",
    "    filtered_df = df.query('(@q1 - 1.5 * @iqr) <= list_price <= (@q3 + 1.5 * @iqr)')\n",
    "    q1 = filtered_df['sqft'].quantile(0.25)\n",
    "    q3 = filtered_df['sqft'].quantile(0.75)\n",
    "    iqr = q3 - q1\n",
    "    filtered_df = filtered_df.query('(@q1 - 1.5 * @iqr) <= sqft <= (@q3 + 1.5 * @iqr)')\n",
    "    q1 = filtered_df['price_per_sqft'].quantile(0.25)\n",
    "    q3 = filtered_df['price_per_sqft'].quantile(0.75)\n",
    "    iqr = q3 - q1\n",
    "    filtered_df = filtered_df.query('(@q1 - 1.5 * @iqr) <= price_per_sqft <= (@q3 + 1.5 * @iqr)')\n",
    "    q1 = filtered_df['stories'].quantile(0.25)\n",
    "    q3 = filtered_df['stories'].quantile(0.75)\n",
    "    iqr = q3 - q1\n",
    "    filtered_df = filtered_df.query('(@q1 - 1.5 * @iqr) <= stories <= (@q3 + 1.5 * @iqr)')\n",
    "    filtered_df = filtered_df.dropna(subset=['sqft', 'list_price', 'price_per_sqft', 'stories', 'year_built'])\n",
    "    filtered_df = filtered_df.dropna(subset=['sqft', 'list_price', 'price_per_sqft', 'stories', 'year_built'])\n",
    "    feature_df = filtered_df.drop(columns=['property_url', 'mls', 'mls_id', 'status', 'street', 'unit', 'last_sold_date', 'sold_price', 'days_on_mls', 'primary_photo', 'alt_photos'])\n",
    "    feature_df.fillna(0, inplace=True)\n",
    "    le = LabelEncoder()\n",
    "    le.fit(feature_df['style'])\n",
    "    encoded_labels = le.transform(feature_df['style'])\n",
    "    feature_df['style'] = encoded_labels\n",
    "    le.fit(feature_df['city'])\n",
    "    encoded_labels = le.transform(feature_df['city'])\n",
    "    feature_df['city'] = encoded_labels\n",
    "    le.fit(feature_df['state'])\n",
    "    encoded_labels = le.transform(feature_df['state'])\n",
    "    feature_df['state'] = encoded_labels\n",
    "    le.fit(feature_df['list_date'])\n",
    "    encoded_labels = le.transform(feature_df['list_date'])\n",
    "    feature_df['list_date'] = encoded_labels    \n",
    "    true_values = feature_df['list_price']\n",
    "    feature_df = feature_df.drop('list_price', axis=1)\n",
    "\n",
    "    mr = project.get_model_registry()\n",
    "    model = mr.get_model(\"xgboost_model\", version=3)\n",
    "    model_dir = model.download()\n",
    "    model = joblib.load(model_dir + \"/xgboost_model.pkl\")\n",
    "\n",
    "    predicted_val = model.predict(feature_df)\n",
    "\n",
    "    result = pd.DataFrame({'Property URL': filtered_df['property_url'], 'Predicted': predicted_val, 'Actual': true_values})\n",
    "    result['valuation'] = result.apply(determine_valuation, axis=1)\n",
    "\n",
    "    plot = plt.figure(figsize=(10,10))\n",
    "    plt.scatter(result['Actual'], result['Predicted'], c='crimson')\n",
    "\n",
    "    p1 = max(max(result['Predicted']), max(result['Actual']))\n",
    "    p2 = min(min(result['Predicted']), min(result['Actual']))\n",
    "    plt.plot([p1, p2], [p1, p2], 'b-')\n",
    "    plt.xlabel('True Values', fontsize=15)\n",
    "    plt.ylabel('Predictions', fontsize=15)\n",
    "    plt.axis('equal')\n",
    "\n",
    "    return result, plot\n",
    "\n",
    "iface1 = gr.Interface(\n",
    "    fn=valuate,\n",
    "    inputs=gr.File(type='filepath'),\n",
    "    outputs=[\"dataframe\", \"plot\"],\n",
    "    title=\"New York Residential Property Valuation\",\n",
    "    description=\"Identify Undervalued Properties in New York!\",\n",
    ")\n",
    "\n",
    "gr.TabbedInterface(\n",
    "    [iface1]\n",
    ").launch(share=True)"
   ]
  }
 ],
 "metadata": {
  "kernelspec": {
   "display_name": "Python 3 (ipykernel)",
   "language": "python",
   "name": "python3"
  },
  "language_info": {
   "codemirror_mode": {
    "name": "ipython",
    "version": 3
   },
   "file_extension": ".py",
   "mimetype": "text/x-python",
   "name": "python",
   "nbconvert_exporter": "python",
   "pygments_lexer": "ipython3",
   "version": "3.11.5"
  }
 },
 "nbformat": 4,
 "nbformat_minor": 4
}
